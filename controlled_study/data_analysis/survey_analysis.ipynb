{
 "cells": [
  {
   "attachments": {},
   "cell_type": "markdown",
   "metadata": {},
   "source": [
    "## Survery Responses Analysis "
   ]
  },
  {
   "cell_type": "code",
   "execution_count": 9,
   "metadata": {},
   "outputs": [],
   "source": [
    "import pandas as pd\n",
    "import numpy as np"
   ]
  },
  {
   "cell_type": "code",
   "execution_count": 10,
   "metadata": {},
   "outputs": [],
   "source": [
    "survey_res = pd.read_csv('data/survey_responses.csv', skiprows=[1, 2]) # survey responses"
   ]
  },
  {
   "attachments": {},
   "cell_type": "markdown",
   "metadata": {},
   "source": [
    "### Demographic Data"
   ]
  },
  {
   "cell_type": "code",
   "execution_count": 11,
   "metadata": {},
   "outputs": [
    {
     "data": {
      "text/plain": [
       "Man                          44\n",
       "Woman                        27\n",
       "Non-binary / third gender     4\n",
       "Name: Q2, dtype: int64"
      ]
     },
     "execution_count": 11,
     "metadata": {},
     "output_type": "execute_result"
    }
   ],
   "source": [
    "# gender\n",
    "gender_count = survey_res['Q2'].value_counts()\n",
    "gender_count"
   ]
  },
  {
   "cell_type": "code",
   "execution_count": 12,
   "metadata": {},
   "outputs": [
    {
     "data": {
      "text/plain": [
       "None                                            38\n",
       "Company Hiring                                  19\n",
       "Undergraduate Admissions                        10\n",
       "Undergraduate Admissions,Master's Admissions     3\n",
       "Undergraduate Admissions,Company Hiring          3\n",
       "Other (please specify)                           1\n",
       "Master's Admissions                              1\n",
       "Name: Q5, dtype: int64"
      ]
     },
     "execution_count": 12,
     "metadata": {},
     "output_type": "execute_result"
    }
   ],
   "source": [
    "# experience in admissions/hiring\n",
    "experience_count = survey_res['Q5'].value_counts()\n",
    "experience_count"
   ]
  },
  {
   "attachments": {},
   "cell_type": "markdown",
   "metadata": {},
   "source": [
    "### Cognitive load"
   ]
  },
  {
   "cell_type": "code",
   "execution_count": 13,
   "metadata": {},
   "outputs": [],
   "source": [
    "# value maps\n",
    "mental_demanding_map = {\n",
    "'Very low': 1,  \n",
    "'Low': 2,\n",
    "'Medium':3,\n",
    "'High': 4,\n",
    "'Very high': 5\n",
    "}"
   ]
  },
  {
   "cell_type": "code",
   "execution_count": 14,
   "metadata": {},
   "outputs": [
    {
     "name": "stdout",
     "output_type": "stream",
     "text": [
      "Medium       26\n",
      "Low          23\n",
      "Very low      9\n",
      "High          9\n",
      "Very high     8\n",
      "Name: Q7, dtype: int64\n",
      "mean:  2.7866666666666666\n",
      "std:  1.1348225509841714\n"
     ]
    }
   ],
   "source": [
    "mental_demanding_count = survey_res['Q7'].value_counts()\n",
    "print(mental_demanding_count)\n",
    "\n",
    "survey_res['mental_demanding'] = survey_res['Q7'].map(mental_demanding_map)\n",
    "\n",
    "print(\"mean: \", np.mean(survey_res['mental_demanding']))\n",
    "print(\"std: \", np.std(survey_res['mental_demanding']))"
   ]
  },
  {
   "attachments": {},
   "cell_type": "markdown",
   "metadata": {},
   "source": [
    "### Usefulness"
   ]
  },
  {
   "cell_type": "code",
   "execution_count": 15,
   "metadata": {},
   "outputs": [],
   "source": [
    "# value maps\n",
    "usefulness_map = {\n",
    "'Not at all useful': 1,  \n",
    "'Slightly useful': 2,\n",
    "'Moderately useful':3,\n",
    "'Very useful': 4,\n",
    "'Very Useful': 4,\n",
    "'Extremely useful': 5\n",
    "}"
   ]
  },
  {
   "attachments": {},
   "cell_type": "markdown",
   "metadata": {},
   "source": [
    "#### Time Spent Plots"
   ]
  },
  {
   "cell_type": "code",
   "execution_count": 16,
   "metadata": {},
   "outputs": [
    {
     "name": "stdout",
     "output_type": "stream",
     "text": [
      "Very Useful          24\n",
      "Moderately useful    20\n",
      "Slightly useful      18\n",
      "Not at all useful     9\n",
      "Extremely useful      4\n",
      "Name: Q10, dtype: int64\n",
      "mean:  2.9466666666666668\n",
      "std:  1.1182526051339605\n"
     ]
    }
   ],
   "source": [
    "# time spent plots\n",
    "usefulness_time_count = survey_res['Q10'].value_counts()\n",
    "print(usefulness_time_count)\n",
    "\n",
    "survey_res['usefulness_time'] = survey_res['Q10'].map(usefulness_map)\n",
    "\n",
    "print(\"mean: \", np.mean(survey_res['usefulness_time']))\n",
    "\n",
    "print(\"std: \", np.std(survey_res['usefulness_time']))\n",
    "\n",
    "\n",
    "\n",
    "\n"
   ]
  },
  {
   "attachments": {},
   "cell_type": "markdown",
   "metadata": {},
   "source": [
    "#### Competitiveness Rating Plots"
   ]
  },
  {
   "cell_type": "code",
   "execution_count": 17,
   "metadata": {},
   "outputs": [
    {
     "name": "stdout",
     "output_type": "stream",
     "text": [
      "Very useful          25\n",
      "Moderately useful    18\n",
      "Slightly useful      13\n",
      "Not at all useful    10\n",
      "Extremely useful      9\n",
      "Name: Q15, dtype: int64\n",
      "mean:  3.1333333333333333\n",
      "std:  1.2256517540566825\n"
     ]
    }
   ],
   "source": [
    "# rating plots\n",
    "usefulness_rating_count = survey_res['Q15'].value_counts()\n",
    "print(usefulness_rating_count)\n",
    "\n",
    "survey_res['usefulness_rating'] = survey_res['Q15'].map(usefulness_map)\n",
    "print(\"mean: \", np.mean(survey_res['usefulness_rating']))\n",
    "print(\"std: \", np.std(survey_res['usefulness_rating']))"
   ]
  },
  {
   "attachments": {},
   "cell_type": "markdown",
   "metadata": {},
   "source": [
    "### Surprise "
   ]
  },
  {
   "cell_type": "code",
   "execution_count": 18,
   "metadata": {},
   "outputs": [],
   "source": [
    "surprise_map = {\n",
    "'Not at all surprised': 1,  \n",
    "'Slightly surprised': 2,\n",
    "'Moderately surprised':3,\n",
    "'Very surprised': 4,\n",
    "'Extremely surprised': 5\n",
    "}"
   ]
  },
  {
   "attachments": {},
   "cell_type": "markdown",
   "metadata": {},
   "source": [
    "#### Time Spent Plots"
   ]
  },
  {
   "cell_type": "code",
   "execution_count": 19,
   "metadata": {},
   "outputs": [
    {
     "name": "stdout",
     "output_type": "stream",
     "text": [
      "Not at all surprised    32\n",
      "Slightly surprised      20\n",
      "Moderately surprised    14\n",
      "Very surprised           8\n",
      "Extremely surprised      1\n",
      "Name: Q12, dtype: int64\n",
      "2.013333333333333\n",
      "1.0769504270031292\n"
     ]
    }
   ],
   "source": [
    "surprise_time_count = survey_res['Q12'].value_counts()\n",
    "print(surprise_time_count)\n",
    "\n",
    "survey_res['surprise_time'] = survey_res['Q12'].map(surprise_map)\n",
    "\n",
    "print(np.mean(survey_res['surprise_time']))\n",
    "\n",
    "print(np.std(survey_res['surprise_time']))"
   ]
  },
  {
   "attachments": {},
   "cell_type": "markdown",
   "metadata": {},
   "source": [
    "#### Competitiveness Rating Plots"
   ]
  },
  {
   "cell_type": "code",
   "execution_count": 20,
   "metadata": {},
   "outputs": [
    {
     "name": "stdout",
     "output_type": "stream",
     "text": [
      "Not at all surprised    42\n",
      "Moderately surprised    14\n",
      "Slightly surprised      14\n",
      "Very surprised           4\n",
      "Extremely surprised      1\n",
      "Name: Q17, dtype: int64\n",
      "1.7733333333333334\n",
      "1.0142101469726192\n"
     ]
    }
   ],
   "source": [
    "surprise_time_count = survey_res['Q17'].value_counts()\n",
    "print(surprise_time_count)\n",
    "\n",
    "survey_res['surprise_rating'] = survey_res['Q17'].map(surprise_map)\n",
    "\n",
    "print(np.mean(survey_res['surprise_rating']))\n",
    "\n",
    "print(np.std(survey_res['surprise_rating']))"
   ]
  }
 ],
 "metadata": {
  "kernelspec": {
   "display_name": "Python 3",
   "language": "python",
   "name": "python3"
  },
  "language_info": {
   "codemirror_mode": {
    "name": "ipython",
    "version": 3
   },
   "file_extension": ".py",
   "mimetype": "text/x-python",
   "name": "python",
   "nbconvert_exporter": "python",
   "pygments_lexer": "ipython3",
   "version": "3.11.3"
  },
  "orig_nbformat": 4,
  "vscode": {
   "interpreter": {
    "hash": "b0fa6594d8f4cbf19f97940f81e996739fb7646882a419484c72d19e05852a7e"
   }
  }
 },
 "nbformat": 4,
 "nbformat_minor": 2
}
